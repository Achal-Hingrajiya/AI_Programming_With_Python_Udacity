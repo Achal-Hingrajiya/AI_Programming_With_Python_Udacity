{
  "nbformat": 4,
  "nbformat_minor": 0,
  "metadata": {
    "colab": {
      "provenance": [],
      "collapsed_sections": [
        "o0Zo0f_hPqH8",
        "VYhXi0B8Ar_w",
        "g7RX7vDEAx_2"
      ],
      "authorship_tag": "ABX9TyNYcHTAswlnO1vFWzZIGrlH",
      "include_colab_link": true
    },
    "kernelspec": {
      "name": "python3",
      "display_name": "Python 3"
    },
    "language_info": {
      "name": "python"
    }
  },
  "cells": [
    {
      "cell_type": "markdown",
      "metadata": {
        "id": "view-in-github",
        "colab_type": "text"
      },
      "source": [
        "<a href=\"https://colab.research.google.com/github/Achal-Hingrajiya/AI_Programming_With_Python_Udacity/blob/main/Numpy_exercises.ipynb\" target=\"_parent\"><img src=\"https://colab.research.google.com/assets/colab-badge.svg\" alt=\"Open In Colab\"/></a>"
      ]
    },
    {
      "cell_type": "code",
      "source": [
        "import numpy as np"
      ],
      "metadata": {
        "id": "9UlGlI1W790W"
      },
      "execution_count": 2,
      "outputs": []
    },
    {
      "cell_type": "markdown",
      "source": [
        "# 1. Creating and saving numpy array"
      ],
      "metadata": {
        "id": "o0Zo0f_hPqH8"
      }
    },
    {
      "cell_type": "markdown",
      "source": [
        "## Creating Numpy array"
      ],
      "metadata": {
        "id": "o43F_24PGBg3"
      }
    },
    {
      "cell_type": "code",
      "execution_count": null,
      "metadata": {
        "id": "Kxx9SJlGCg3C"
      },
      "outputs": [],
      "source": [
        "import numpy as np\n"
      ]
    },
    {
      "cell_type": "code",
      "source": [
        "# 1D array\n",
        "x = np.array([1, 2, 3, 4])\n",
        "print(\"x: \", x)\n",
        "\n",
        "# Rank of an array = no of dimentions\n",
        "print(\"Rank of x: \", x.ndim)\n",
        "print(\"Shape of x: \", x.shape)\n",
        "print()\n",
        "\n",
        "# 2D array\n",
        "y = np.array([[1, 2, 3], [4, 5, 6], [7, 8, 9]])\n",
        "print(\"y: \", y)\n",
        "\n",
        "print(\"Rank of y: \", y.ndim)\n",
        "print(\"Shape of y: \", y.shape)\n",
        "print(\"Data type of y: \", y.dtype)"
      ],
      "metadata": {
        "colab": {
          "base_uri": "https://localhost:8080/"
        },
        "id": "iexzbvV_Dw9h",
        "outputId": "8448d705-74a2-49a3-e153-83e01eb176f3"
      },
      "execution_count": null,
      "outputs": [
        {
          "output_type": "stream",
          "name": "stdout",
          "text": [
            "x:  [1 2 3 4]\n",
            "Rank of x:  1\n",
            "Shape of x:  (4,)\n",
            "\n",
            "y:  [[1 2 3]\n",
            " [4 5 6]\n",
            " [7 8 9]]\n",
            "Rank of y:  2\n",
            "Shape of y:  (3, 3)\n",
            "Data type of y:  int64\n"
          ]
        }
      ]
    },
    {
      "cell_type": "code",
      "source": [
        "# 1D array with custom data type\n",
        "z = np.array([1.3, 2.5, 3.0, 4.1, 5.8], dtype = np.int64)\n",
        "print(f\"Z: {z}\\nData type: {z.dtype}\\nDimentions: {z.shape}\\nRank: {z.ndim}\")"
      ],
      "metadata": {
        "colab": {
          "base_uri": "https://localhost:8080/"
        },
        "id": "ZaFW_PeDG6z9",
        "outputId": "8758f8fa-ce2c-47b2-c46e-41783bcc40e4"
      },
      "execution_count": null,
      "outputs": [
        {
          "output_type": "stream",
          "name": "stdout",
          "text": [
            "Z: [1 2 3 4 5]\n",
            "Data type: int64\n",
            "Dimentions: (5,)\n",
            "Rank: 1\n"
          ]
        }
      ]
    },
    {
      "cell_type": "code",
      "source": [
        "# 2D array with custom data type\n",
        "p = np.array([[1, 2, 3], [4, 5, 6]], dtype=np.float64)\n",
        "print(f\"P: {p}\\nData type: {p.dtype}\\nShape: {p.shape}\\nRank: {p.ndim}\")"
      ],
      "metadata": {
        "colab": {
          "base_uri": "https://localhost:8080/"
        },
        "id": "DjIdEd0bH-jO",
        "outputId": "6f30d026-2075-473b-aece-3847d33d2c17"
      },
      "execution_count": null,
      "outputs": [
        {
          "output_type": "stream",
          "name": "stdout",
          "text": [
            "P: [[1. 2. 3.]\n",
            " [4. 5. 6.]]\n",
            "Data type: float64\n",
            "Shape: (2, 3)\n",
            "Rank: 2\n"
          ]
        }
      ]
    },
    {
      "cell_type": "markdown",
      "source": [
        "## Saving np array to file"
      ],
      "metadata": {
        "id": "IE-UkPcdI5L0"
      }
    },
    {
      "cell_type": "code",
      "source": [
        "q = np.array([1, 2, 3, 4])\n",
        "np.save('my_arr', q)"
      ],
      "metadata": {
        "id": "Mvf3086hIXlw"
      },
      "execution_count": null,
      "outputs": []
    },
    {
      "cell_type": "code",
      "source": [
        "# readig from saved file\n",
        "r = np.load('my_arr.npy')\n",
        "print(f\"R: {r}\\nData type: {r.dtype}\\nShape: {r.shape}\\nDimensions: {r.ndim}\")"
      ],
      "metadata": {
        "colab": {
          "base_uri": "https://localhost:8080/"
        },
        "id": "UkS1IjUrJGpH",
        "outputId": "8682cd90-10f7-4155-9678-632458bf82c2"
      },
      "execution_count": null,
      "outputs": [
        {
          "output_type": "stream",
          "name": "stdout",
          "text": [
            "R: [1 2 3 4]\n",
            "Data type: int64\n",
            "Shape: (4,)\n",
            "Dimensions: 1\n"
          ]
        }
      ]
    },
    {
      "cell_type": "markdown",
      "source": [
        "# 2. Using Built-in Functions to Create ndarrays"
      ],
      "metadata": {
        "id": "AH7fNucPPwPs"
      }
    },
    {
      "cell_type": "markdown",
      "source": [
        "## Zeros"
      ],
      "metadata": {
        "id": "eL2Sc0-EP4Os"
      }
    },
    {
      "cell_type": "code",
      "source": [
        "# Creating a np arary of zeors\n",
        "# np.zeros(shape)\n",
        "z = np.zeros((3,4))\n",
        "print(f\"z:\\n{z}\\nData type: {z.dtype}\\nShape: {z.shape}\\nRank: {z.ndim}\")"
      ],
      "metadata": {
        "colab": {
          "base_uri": "https://localhost:8080/"
        },
        "id": "xPs3ScufJgpe",
        "outputId": "35a14042-f6bb-4ea9-801e-a1010960bbd4"
      },
      "execution_count": null,
      "outputs": [
        {
          "output_type": "stream",
          "name": "stdout",
          "text": [
            "z:\n",
            "[[0. 0. 0. 0.]\n",
            " [0. 0. 0. 0.]\n",
            " [0. 0. 0. 0.]]\n",
            "Data type: float64\n",
            "Shape: (3, 4)\n",
            "Rank: 2\n"
          ]
        }
      ]
    },
    {
      "cell_type": "markdown",
      "source": [
        "## Ones"
      ],
      "metadata": {
        "id": "GrXaTufXQmi5"
      }
    },
    {
      "cell_type": "code",
      "source": [
        "# Creating a np array of ones\n",
        "# np.ones(shape)\n",
        "o = np.ones((4,5))\n",
        "print(f\"o:\\n{o}\\nData type: {o.dtype}\\nShape: {o.shape}\\nRank: {o.ndim}\")"
      ],
      "metadata": {
        "colab": {
          "base_uri": "https://localhost:8080/"
        },
        "id": "qkrFXhunQeNV",
        "outputId": "3023e972-a52d-43e4-861a-c7bcd1afe953"
      },
      "execution_count": null,
      "outputs": [
        {
          "output_type": "stream",
          "name": "stdout",
          "text": [
            "o:\n",
            "[[1. 1. 1. 1. 1.]\n",
            " [1. 1. 1. 1. 1.]\n",
            " [1. 1. 1. 1. 1.]\n",
            " [1. 1. 1. 1. 1.]]\n",
            "Data type: float64\n",
            "Shape: (4, 5)\n",
            "Rank: 2\n"
          ]
        }
      ]
    },
    {
      "cell_type": "markdown",
      "source": [
        "## Constants"
      ],
      "metadata": {
        "id": "mylH9a0zRDw_"
      }
    },
    {
      "cell_type": "code",
      "source": [
        "# Creating np array of constants\n",
        "# np.full(shape, n)\n",
        "\n",
        "c = np.full((4,3), 4)\n",
        "print(f\"c:\\n{c}\\nData type: {c.dtype}\\nDimenstions: {c.shape}\\nRank: {c.ndim}\")"
      ],
      "metadata": {
        "colab": {
          "base_uri": "https://localhost:8080/"
        },
        "id": "GHwQm5cyQ-qT",
        "outputId": "195d2bde-d750-4ba2-c678-205d9a2e8850"
      },
      "execution_count": null,
      "outputs": [
        {
          "output_type": "stream",
          "name": "stdout",
          "text": [
            "c:\n",
            "[[4 4 4]\n",
            " [4 4 4]\n",
            " [4 4 4]\n",
            " [4 4 4]]\n",
            "Data type: int64\n",
            "Dimenstions: (4, 3)\n",
            "Rank: 2\n"
          ]
        }
      ]
    },
    {
      "cell_type": "code",
      "source": [
        "# Creating np array of constants\n",
        "# np.full(shape, n, dtype)\n",
        "\n",
        "c = np.full((4,3), 4, np.float64)\n",
        "print(f\"c:\\n{c}\\nData type: {c.dtype}\\nDimenstions: {c.shape}\\nRank: {c.ndim}\")"
      ],
      "metadata": {
        "colab": {
          "base_uri": "https://localhost:8080/"
        },
        "id": "S8zBzH02Rg3l",
        "outputId": "e457cecc-007e-4eb1-c2dc-378b0ce6df03"
      },
      "execution_count": null,
      "outputs": [
        {
          "output_type": "stream",
          "name": "stdout",
          "text": [
            "c:\n",
            "[[4. 4. 4.]\n",
            " [4. 4. 4.]\n",
            " [4. 4. 4.]\n",
            " [4. 4. 4.]]\n",
            "Data type: float64\n",
            "Dimenstions: (4, 3)\n",
            "Rank: 2\n"
          ]
        }
      ]
    },
    {
      "cell_type": "markdown",
      "source": [
        "## Identity matrix"
      ],
      "metadata": {
        "id": "fdWYILb8R0vT"
      }
    },
    {
      "cell_type": "code",
      "source": [
        "# Creating identity matrix \n",
        "# np.eye(n)\n",
        "i = np.eye(4)\n",
        "print(f\"Identity matrix:\\n{i}\\nData type: {i.dtype}\\nShape: {i.shape}\\nRank: {i.ndim}\")"
      ],
      "metadata": {
        "colab": {
          "base_uri": "https://localhost:8080/"
        },
        "id": "nwcHIfdvRvHs",
        "outputId": "63e8dbda-d331-4e30-b066-c90d16f987d1"
      },
      "execution_count": null,
      "outputs": [
        {
          "output_type": "stream",
          "name": "stdout",
          "text": [
            "Identity matrix:\n",
            "[[1. 0. 0. 0.]\n",
            " [0. 1. 0. 0.]\n",
            " [0. 0. 1. 0.]\n",
            " [0. 0. 0. 1.]]\n",
            "Data type: float64\n",
            "Shape: (4, 4)\n",
            "Rank: 2\n"
          ]
        }
      ]
    },
    {
      "cell_type": "code",
      "source": [
        "# Creating identity matrix \n",
        "# np.eye(n, dtype)\n",
        "i = np.eye(4, dtype = np.int64)\n",
        "print(f\"Identity matrix:\\n{i}\\nData type: {i.dtype}\\nShape: {i.shape}\\nRank: {i.ndim}\")"
      ],
      "metadata": {
        "colab": {
          "base_uri": "https://localhost:8080/"
        },
        "id": "LyoSCceRSJjP",
        "outputId": "e10dfa44-21d3-46c5-dea4-58531edc70ac"
      },
      "execution_count": null,
      "outputs": [
        {
          "output_type": "stream",
          "name": "stdout",
          "text": [
            "Identity matrix:\n",
            "[[1 0 0 0]\n",
            " [0 1 0 0]\n",
            " [0 0 1 0]\n",
            " [0 0 0 1]]\n",
            "Data type: int64\n",
            "Shape: (4, 4)\n",
            "Rank: 2\n"
          ]
        }
      ]
    },
    {
      "cell_type": "markdown",
      "source": [
        "## Diagonal array"
      ],
      "metadata": {
        "id": "OgzodS3QSwa9"
      }
    },
    {
      "cell_type": "code",
      "source": [
        "# Creating diagonal anrrray of constants\n",
        "dig = np.diag([10, 20, 30])\n",
        "print(f\"Diagonal matrix:\\n{dig}\\nData type: {dig.dtype}\\nShape: {dig.shape}\\nRank: {dig.ndim}\")"
      ],
      "metadata": {
        "colab": {
          "base_uri": "https://localhost:8080/"
        },
        "id": "iDem2Q7iSZ2t",
        "outputId": "1783f6d3-876a-44b9-b236-e57c001034a5"
      },
      "execution_count": null,
      "outputs": [
        {
          "output_type": "stream",
          "name": "stdout",
          "text": [
            "Diagonal matrix:\n",
            "[[10  0  0]\n",
            " [ 0 20  0]\n",
            " [ 0  0 30]]\n",
            "Data type: int64\n",
            "Shape: (3, 3)\n",
            "Rank: 2\n"
          ]
        }
      ]
    },
    {
      "cell_type": "markdown",
      "source": [
        "## Arange"
      ],
      "metadata": {
        "id": "v1SyLB5364dL"
      }
    },
    {
      "cell_type": "code",
      "source": [
        "# Returns evenly spaces values within given interval\n",
        "# np.arrange(start, stop, step, dtype)\n",
        "# Simillar to range\n",
        "\n",
        "x = np.arange(10)\n",
        "print(f\"X: {x}\\nData type: {x.dtype}\\nShape: {x.shape}\\nRank: {x.ndim}\")\n",
        "\n",
        "y = np.arange(5, 10)\n",
        "print(f\"y: {y}\\nData type: {y.dtype}\\nShape: {y.shape}\\nRank: {y.ndim}\")\n",
        "\n",
        "z = np.arange(1, 11, 3)\n",
        "print(f\"z: {z}\\nData type: {z.dtype}\\nShape: {z.shape}\\nRank: {z.ndim}\")\n"
      ],
      "metadata": {
        "id": "2gaOIl8-TQSG",
        "colab": {
          "base_uri": "https://localhost:8080/"
        },
        "outputId": "cc177cec-9df6-49d0-da6f-db61beafc138"
      },
      "execution_count": null,
      "outputs": [
        {
          "output_type": "stream",
          "name": "stdout",
          "text": [
            "X: [0 1 2 3 4 5 6 7 8 9]\n",
            "Data type: int64\n",
            "Shape: (10,)\n",
            "Rank: 1\n",
            "y: [5 6 7 8 9]\n",
            "Data type: int64\n",
            "Shape: (5,)\n",
            "Rank: 1\n",
            "z: [ 1  4  7 10]\n",
            "Data type: int64\n",
            "Shape: (4,)\n",
            "Rank: 1\n"
          ]
        }
      ]
    },
    {
      "cell_type": "markdown",
      "source": [
        "## linspace"
      ],
      "metadata": {
        "id": "L4wePvp88Mtc"
      }
    },
    {
      "cell_type": "code",
      "source": [
        "# returns evenly spaced values calculated over the interval [start, stop]\n",
        "# Even though the np.arange() function allows for non-integer steps, \n",
        "# such as 0.3, the output is usually inconsistent, \n",
        "# due to the finite floating point precision. \n",
        "# np.linspace(start, stop, n, endpoint = Boolean)\n",
        "\n",
        "x = np.linspace(0,25, 10)\n",
        "print(f\"X: {x}\\nData type: {x.dtype}\\nShape: {x.shape}\\nRank: {x.ndim}\")\n",
        "\n",
        "# Excluding 25\n",
        "y = np.linspace(0, 25, 10, endpoint = False)\n",
        "print(f\"y: {y}\\nData type: {y.dtype}\\nShape: {y.shape}\\nRank: {y.ndim}\")\n"
      ],
      "metadata": {
        "colab": {
          "base_uri": "https://localhost:8080/"
        },
        "id": "MHCO63dk77UN",
        "outputId": "94944542-5cb6-47f1-e425-057cfa247f2c"
      },
      "execution_count": null,
      "outputs": [
        {
          "output_type": "stream",
          "name": "stdout",
          "text": [
            "X: [ 0.          2.77777778  5.55555556  8.33333333 11.11111111 13.88888889\n",
            " 16.66666667 19.44444444 22.22222222 25.        ]\n",
            "Data type: float64\n",
            "Shape: (10,)\n",
            "Rank: 1\n",
            "y: [ 0.   2.5  5.   7.5 10.  12.5 15.  17.5 20.  22.5]\n",
            "Data type: float64\n",
            "Shape: (10,)\n",
            "Rank: 1\n"
          ]
        }
      ]
    },
    {
      "cell_type": "markdown",
      "source": [
        "## Reshape fucntions"
      ],
      "metadata": {
        "id": "LNVJefMx9Crx"
      }
    },
    {
      "cell_type": "code",
      "source": [
        "# np.reshape(array, newshape, order)\n",
        "# It gives a new shape to an array without changing its data.\n",
        "\n",
        "x = np.arange(25)\n",
        "print(f\"X: {x}\\nData type: {x.dtype}\\nShape: {x.shape}\\nRank: {x.ndim}\")\n",
        "\n",
        "x = np.reshape(x, (5,5))\n",
        "print(f\"X: {x}\\nData type: {x.dtype}\\nShape: {x.shape}\\nRank: {x.ndim}\")\n"
      ],
      "metadata": {
        "colab": {
          "base_uri": "https://localhost:8080/"
        },
        "id": "Smw_RSiu85Lf",
        "outputId": "46491238-65be-46eb-bdf0-eb196f1ffda2"
      },
      "execution_count": null,
      "outputs": [
        {
          "output_type": "stream",
          "name": "stdout",
          "text": [
            "X: [ 0  1  2  3  4  5  6  7  8  9 10 11 12 13 14 15 16 17 18 19 20 21 22 23\n",
            " 24]\n",
            "Data type: int64\n",
            "Shape: (25,)\n",
            "Rank: 1\n",
            "X: [[ 0  1  2  3  4]\n",
            " [ 5  6  7  8  9]\n",
            " [10 11 12 13 14]\n",
            " [15 16 17 18 19]\n",
            " [20 21 22 23 24]]\n",
            "Data type: int64\n",
            "Shape: (5, 5)\n",
            "Rank: 2\n"
          ]
        }
      ]
    },
    {
      "cell_type": "markdown",
      "source": [
        "## Reshape method"
      ],
      "metadata": {
        "id": "td7W9xre92rt"
      }
    },
    {
      "cell_type": "code",
      "source": [
        "# It returns an array containing the same data with a new shape. \n",
        "# np.ndarray.reshape(new_shape)\n",
        "y = np.arange(20).reshape(4,5)\n",
        "print(f\"y: {y}\\nData type: {y.dtype}\\nShape: {y.shape}\\nRank: {y.ndim}\")\n"
      ],
      "metadata": {
        "colab": {
          "base_uri": "https://localhost:8080/"
        },
        "id": "wcvdMr8j9clW",
        "outputId": "24e0e080-29ca-4c18-ab35-ad511967e6c6"
      },
      "execution_count": null,
      "outputs": [
        {
          "output_type": "stream",
          "name": "stdout",
          "text": [
            "y: [[ 0  1  2  3  4]\n",
            " [ 5  6  7  8  9]\n",
            " [10 11 12 13 14]\n",
            " [15 16 17 18 19]]\n",
            "Data type: int64\n",
            "Shape: (4, 5)\n",
            "Rank: 2\n"
          ]
        }
      ]
    },
    {
      "cell_type": "markdown",
      "source": [
        "## Random elements"
      ],
      "metadata": {
        "id": "I2x5pPPN-og0"
      }
    },
    {
      "cell_type": "markdown",
      "source": [
        "### Random floats"
      ],
      "metadata": {
        "id": "D6Tw4rMw-6l5"
      }
    },
    {
      "cell_type": "code",
      "source": [
        "# Random ndarrays are arrays that contain random numbers.\n",
        "# np.random.random(shape)\n",
        "x = np.random.random((3,3))\n",
        "print(f\"X: {x}\\nData type: {x.dtype}\\nShape: {x.shape}\\nRank: {x.ndim}\")\n"
      ],
      "metadata": {
        "colab": {
          "base_uri": "https://localhost:8080/"
        },
        "id": "a74TTi4J-O_F",
        "outputId": "38211698-ba5b-448a-fdc6-5507e2ae89c4"
      },
      "execution_count": null,
      "outputs": [
        {
          "output_type": "stream",
          "name": "stdout",
          "text": [
            "X: [[0.06152364 0.63705188 0.02089311]\n",
            " [0.89718158 0.9454743  0.82361705]\n",
            " [0.98685889 0.9736822  0.7347313 ]]\n",
            "Data type: float64\n",
            "Shape: (3, 3)\n",
            "Rank: 2\n"
          ]
        }
      ]
    },
    {
      "cell_type": "markdown",
      "source": [
        "### Random integers"
      ],
      "metadata": {
        "id": "BfD_aL-S-8uz"
      }
    },
    {
      "cell_type": "code",
      "source": [
        "# np.random.randint(start, stop, size=shape)\n",
        "\n",
        "x = np.random.randint(5, 15, size = (4,3))\n",
        "print(f\"X: {x}\\nData type: {x.dtype}\\nShape: {x.shape}\\nRank: {x.ndim}\")\n"
      ],
      "metadata": {
        "colab": {
          "base_uri": "https://localhost:8080/"
        },
        "id": "P5-caCYh-2dF",
        "outputId": "166fad71-8e70-48c9-eef6-fc5e915ed8dc"
      },
      "execution_count": null,
      "outputs": [
        {
          "output_type": "stream",
          "name": "stdout",
          "text": [
            "X: [[ 5 13 10]\n",
            " [13  9  8]\n",
            " [ 5 14 10]\n",
            " [ 7  9  9]]\n",
            "Data type: int64\n",
            "Shape: (4, 3)\n",
            "Rank: 2\n"
          ]
        }
      ]
    },
    {
      "cell_type": "markdown",
      "source": [
        "## Normal distribution"
      ],
      "metadata": {
        "id": "3Miv0Pol_UVl"
      }
    },
    {
      "cell_type": "code",
      "source": [
        "# We create a 1000 x 1000 ndarray of random floats drawn from normal (Gaussian) distribution\n",
        "# with a mean of zero and a standard deviation of 0.1.\n",
        "X = np.random.normal(0, 0.1, size=(1000,1000))\n",
        "\n",
        "# We print X\n",
        "print()\n",
        "print('X = \\n', X)\n",
        "print()\n",
        "\n",
        "# We print information about X\n",
        "print('X has dimensions:', X.shape)\n",
        "print('X is an object of type:', type(X))\n",
        "print('The elements in X are of type:', X.dtype)\n",
        "print('The elements in X have a mean of:', X.mean())\n",
        "print('The maximum value in X is:', X.max())\n",
        "print('The minimum value in X is:', X.min())\n",
        "print('X has', (X < 0).sum(), 'negative numbers')\n",
        "print('X has', (X > 0).sum(), 'positive numbers')"
      ],
      "metadata": {
        "colab": {
          "base_uri": "https://localhost:8080/"
        },
        "id": "ls7kltOH_Lzi",
        "outputId": "4fe766c9-1f7c-45b2-9ffe-7dce8fc8f694"
      },
      "execution_count": null,
      "outputs": [
        {
          "output_type": "stream",
          "name": "stdout",
          "text": [
            "\n",
            "X = \n",
            " [[ 0.00937263 -0.02230834 -0.00979539 ... -0.1267282   0.15435128\n",
            "  -0.04190709]\n",
            " [ 0.177417    0.06868852 -0.03654747 ... -0.01652938  0.08803017\n",
            "  -0.06430392]\n",
            " [ 0.04580474 -0.09267967  0.17700331 ...  0.06577097  0.16904917\n",
            "   0.09169616]\n",
            " ...\n",
            " [-0.03376396  0.09335165 -0.17448921 ...  0.07018244 -0.02604483\n",
            "   0.14621741]\n",
            " [ 0.07989881 -0.15374616  0.16692514 ... -0.04984877  0.04298297\n",
            "  -0.0231409 ]\n",
            " [ 0.12700792  0.11253919  0.01835494 ... -0.09314883  0.01571929\n",
            "  -0.00113097]]\n",
            "\n",
            "X has dimensions: (1000, 1000)\n",
            "X is an object of type: <class 'numpy.ndarray'>\n",
            "The elements in X are of type: float64\n",
            "The elements in X have a mean of: 0.00010825011647243708\n",
            "The maximum value in X is: 0.47397096334357025\n",
            "The minimum value in X is: -0.5506273834812943\n",
            "X has 499203 negative numbers\n",
            "X has 500797 positive numbers\n"
          ]
        }
      ]
    },
    {
      "cell_type": "markdown",
      "source": [
        "# 3. Accessing, Deleting and Inserting Elements into ndarrays"
      ],
      "metadata": {
        "id": "_euHXXijAkz7"
      }
    },
    {
      "cell_type": "markdown",
      "source": [
        "## Access"
      ],
      "metadata": {
        "id": "VYhXi0B8Ar_w"
      }
    },
    {
      "cell_type": "markdown",
      "source": [
        "### 1D array"
      ],
      "metadata": {
        "id": "pOJlUJHzA8f0"
      }
    },
    {
      "cell_type": "code",
      "source": [
        "# We create a rank 1 ndarray that contains integers from 1 to 5\n",
        "x = np.array([1, 2, 3, 4, 5])\n",
        "\n",
        "# We print x\n",
        "print()\n",
        "print('x = ', x)\n",
        "print()\n",
        "\n",
        "# Let's access some elements with positive indices\n",
        "print('This is First Element in x:', x[0]) \n",
        "print('This is Second Element in x:', x[1])\n",
        "print('This is Fifth (Last) Element in x:', x[4])\n",
        "print()\n",
        "\n",
        "# Let's access the same elements with negative indices\n",
        "print('This is First Element in x:', x[-5])\n",
        "print('This is Second Element in x:', x[-4])\n",
        "print('This is Fifth (Last) Element in x:', x[-1])"
      ],
      "metadata": {
        "colab": {
          "base_uri": "https://localhost:8080/"
        },
        "id": "aK_geQnV_WRj",
        "outputId": "aa77e822-4953-4c0d-d7ad-61095dd0508e"
      },
      "execution_count": null,
      "outputs": [
        {
          "output_type": "stream",
          "name": "stdout",
          "text": [
            "\n",
            "x =  [1 2 3 4 5]\n",
            "\n",
            "This is First Element in x: 1\n",
            "This is Second Element in x: 2\n",
            "This is Fifth (Last) Element in x: 5\n",
            "\n",
            "This is First Element in x: 1\n",
            "This is Second Element in x: 2\n",
            "This is Fifth (Last) Element in x: 5\n"
          ]
        }
      ]
    },
    {
      "cell_type": "markdown",
      "source": [
        "### 2D Array"
      ],
      "metadata": {
        "id": "Jg5k56uQBEd-"
      }
    },
    {
      "cell_type": "code",
      "source": [
        "# We create a 3 x 3 rank 2 ndarray that contains integers from 1 to 9\n",
        "X = np.array([[1,2,3],[4,5,6],[7,8,9]])\n",
        "\n",
        "# We print X\n",
        "print()\n",
        "print('X = \\n', X)\n",
        "print()\n",
        "\n",
        "# Let's access some elements in X\n",
        "print('This is (0,0) Element in X:', X[0,0])\n",
        "print('This is (0,1) Element in X:', X[0,1])\n",
        "print('This is (2,2) Element in X:', X[2,2])"
      ],
      "metadata": {
        "colab": {
          "base_uri": "https://localhost:8080/"
        },
        "id": "cXl1cBg8BGX9",
        "outputId": "34632f9c-028e-4d66-a812-e5e9068f7370"
      },
      "execution_count": null,
      "outputs": [
        {
          "output_type": "stream",
          "name": "stdout",
          "text": [
            "\n",
            "X = \n",
            " [[1 2 3]\n",
            " [4 5 6]\n",
            " [7 8 9]]\n",
            "\n",
            "This is (0,0) Element in X: 1\n",
            "This is (0,1) Element in X: 2\n",
            "This is (2,2) Element in X: 9\n"
          ]
        }
      ]
    },
    {
      "cell_type": "markdown",
      "source": [
        "## Modify"
      ],
      "metadata": {
        "id": "g7RX7vDEAx_2"
      }
    },
    {
      "cell_type": "markdown",
      "source": [
        "### 1D Array"
      ],
      "metadata": {
        "id": "S5DOxDrvA-eO"
      }
    },
    {
      "cell_type": "code",
      "source": [
        "# We create a rank 1 ndarray that contains integers from 1 to 5\n",
        "x = np.array([1, 2, 3, 4, 5])\n",
        "\n",
        "# We print the original x\n",
        "print()\n",
        "print('Original:\\n x = ', x)\n",
        "print()\n",
        "\n",
        "# We change the fourth element in x from 4 to 20\n",
        "x[3] = 20\n",
        "\n",
        "# We print x after it was modified \n",
        "print('Modified:\\n x = ', x)"
      ],
      "metadata": {
        "colab": {
          "base_uri": "https://localhost:8080/"
        },
        "id": "kesfjvNkAwgU",
        "outputId": "8445c5f4-dea0-4845-cc5a-803b2284b603"
      },
      "execution_count": null,
      "outputs": [
        {
          "output_type": "stream",
          "name": "stdout",
          "text": [
            "\n",
            "Original:\n",
            " x =  [1 2 3 4 5]\n",
            "\n",
            "Modified:\n",
            " x =  [ 1  2  3 20  5]\n"
          ]
        }
      ]
    },
    {
      "cell_type": "markdown",
      "source": [
        "### 2D array"
      ],
      "metadata": {
        "id": "m-Pt1-jvA2x9"
      }
    },
    {
      "cell_type": "code",
      "source": [
        "# We create a 3 x 3 rank 2 ndarray that contains integers from 1 to 9\n",
        "X = np.array([[1,2,3],[4,5,6],[7,8,9]])\n",
        "\n",
        "# We print the original x\n",
        "print()\n",
        "print('Original:\\n X = \\n', X)\n",
        "print()\n",
        "\n",
        "# We change the (0,0) element in X from 1 to 20\n",
        "X[0,0] = 20\n",
        "\n",
        "# We print X after it was modified \n",
        "print('Modified:\\n X = \\n', X)"
      ],
      "metadata": {
        "colab": {
          "base_uri": "https://localhost:8080/"
        },
        "id": "ksaxbQgRA1jv",
        "outputId": "08796c1b-526a-432b-c26f-017ee0d29bc4"
      },
      "execution_count": null,
      "outputs": [
        {
          "output_type": "stream",
          "name": "stdout",
          "text": [
            "\n",
            "Original:\n",
            " X = \n",
            " [[1 2 3]\n",
            " [4 5 6]\n",
            " [7 8 9]]\n",
            "\n",
            "Modified:\n",
            " X = \n",
            " [[20  2  3]\n",
            " [ 4  5  6]\n",
            " [ 7  8  9]]\n"
          ]
        }
      ]
    },
    {
      "cell_type": "markdown",
      "source": [
        "## Delete"
      ],
      "metadata": {
        "id": "b-xXxMRHBXWa"
      }
    },
    {
      "cell_type": "markdown",
      "source": [
        "### 1D array"
      ],
      "metadata": {
        "id": "dKCYG7_JBt_L"
      }
    },
    {
      "cell_type": "code",
      "source": [
        "# We create a rank 1 ndarray \n",
        "x = np.array([1, 2, 3, 4, 5])\n",
        "\n",
        "# We print x\n",
        "print()\n",
        "print('Original x = ', x)\n",
        "\n",
        "# delete first and last ele\n",
        "x = np.delete(x, [0,-1])\n",
        "print('Modified x = ', x)\n"
      ],
      "metadata": {
        "colab": {
          "base_uri": "https://localhost:8080/"
        },
        "id": "yal1GVPuBSiB",
        "outputId": "88c6c693-1cde-454d-8c1c-17ad7edfa1ab"
      },
      "execution_count": null,
      "outputs": [
        {
          "output_type": "stream",
          "name": "stdout",
          "text": [
            "\n",
            "Original x =  [1 2 3 4 5]\n",
            "Modified x =  [2 3 4]\n"
          ]
        }
      ]
    },
    {
      "cell_type": "markdown",
      "source": [
        "### 2D array"
      ],
      "metadata": {
        "id": "US1LeYK9Bv5z"
      }
    },
    {
      "cell_type": "code",
      "source": [
        "# We create a rank 2 ndarray\n",
        "Y = np.array([[1,2,3],[4,5,6],[7,8,9]])\n",
        "print('Original Y = \\n', Y)\n",
        "\n",
        "# delete first row\n",
        "# axis = 0 => row\n",
        "# axis = 1 => column\n",
        "\n",
        "a = np.delete(Y, 0, axis = 0)\n",
        "print('\\nModified Y = \\n', a)\n",
        "\n",
        "# Delete first and last column\n",
        "b = np.delete(Y, [0, -1], axis = 1)\n",
        "print('\\nModified Y = \\n', b)\n"
      ],
      "metadata": {
        "colab": {
          "base_uri": "https://localhost:8080/"
        },
        "id": "53wV1MzRBmG1",
        "outputId": "39e97c6f-636e-4898-f382-bdc879f4d4a3"
      },
      "execution_count": null,
      "outputs": [
        {
          "output_type": "stream",
          "name": "stdout",
          "text": [
            "Original Y = \n",
            " [[1 2 3]\n",
            " [4 5 6]\n",
            " [7 8 9]]\n",
            "\n",
            "Modified Y = \n",
            " [[4 5 6]\n",
            " [7 8 9]]\n",
            "\n",
            "Modified Y = \n",
            " [[2]\n",
            " [5]\n",
            " [8]]\n"
          ]
        }
      ]
    },
    {
      "cell_type": "markdown",
      "source": [
        "## Append"
      ],
      "metadata": {
        "id": "qJej7QXaCtBE"
      }
    },
    {
      "cell_type": "markdown",
      "source": [
        "### 1D Array"
      ],
      "metadata": {
        "id": "yoT1tVt0Dzj8"
      }
    },
    {
      "cell_type": "code",
      "source": [
        "x = np.arange(5)\n",
        "print(f\"x: {x}\\ny: {y}\\n\")\n",
        "\n",
        "# appending an element to x\n",
        "z = np.append(x, 6)\n",
        "print(f\"X after appending 6: {z}\")\n",
        "\n",
        "p = np.append(x, [5,6,7])\n",
        "# appending list of elements to x\n",
        "print(f\"X after appending [5,6,7]: {p}\")\n",
        "\n"
      ],
      "metadata": {
        "colab": {
          "base_uri": "https://localhost:8080/"
        },
        "id": "O9_xSnGUCDZh",
        "outputId": "bd722fbb-2b30-4ed7-a7cc-fc2d56b8e394"
      },
      "execution_count": null,
      "outputs": [
        {
          "output_type": "stream",
          "name": "stdout",
          "text": [
            "x: [0 1 2 3 4]\n",
            "y: [5 6 7 8 9]\n",
            "\n",
            "X after appending 6: [0 1 2 3 4 6]\n",
            "X after appending [5,6,7]: [0 1 2 3 4 5 6 7]\n"
          ]
        }
      ]
    },
    {
      "cell_type": "markdown",
      "source": [
        "### 2D Array"
      ],
      "metadata": {
        "id": "g77P_p4_D12J"
      }
    },
    {
      "cell_type": "code",
      "source": [
        "y = np.arange(9).reshape((3,3))\n",
        "print(f\"Y:\\n{y}\\nshape: {y.shape}\\nRank: {y.ndim}\")\n",
        "\n",
        "# Appending a new row\n",
        "u = np.append(y, [[10, 11, 12]], axis = 0)\n",
        "print(f\"\\nY after appending [10, 11, 12]:\\n{u}\\nshape: {u.shape}\\nRank: {u.ndim}\")\n",
        "\n",
        "# Appending a columns\n",
        "v = np.append(y, [[10], [11], [12]], axis = 1)\n",
        "print(f\"\\nY after appending [10], [11], [12]:\\n{v}\\nshape: {v.shape}\\nRank: {v.ndim}\")"
      ],
      "metadata": {
        "colab": {
          "base_uri": "https://localhost:8080/"
        },
        "id": "Ol45Ry6FDTCK",
        "outputId": "a2f0d8a8-427a-46ff-a9b1-6a88989291fc"
      },
      "execution_count": null,
      "outputs": [
        {
          "output_type": "stream",
          "name": "stdout",
          "text": [
            "Y:\n",
            "[[0 1 2]\n",
            " [3 4 5]\n",
            " [6 7 8]]\n",
            "shape: (3, 3)\n",
            "Rank: 2\n",
            "\n",
            "Y after appending [10, 11, 12]:\n",
            "[[ 0  1  2]\n",
            " [ 3  4  5]\n",
            " [ 6  7  8]\n",
            " [10 11 12]]\n",
            "shape: (4, 3)\n",
            "Rank: 2\n",
            "\n",
            "Y after appending [10], [11], [12]:\n",
            "[[ 0  1  2 10]\n",
            " [ 3  4  5 11]\n",
            " [ 6  7  8 12]]\n",
            "shape: (3, 4)\n",
            "Rank: 2\n"
          ]
        }
      ]
    },
    {
      "cell_type": "markdown",
      "source": [
        "## Insert"
      ],
      "metadata": {
        "id": "fWSFhoEPFUNq"
      }
    },
    {
      "cell_type": "markdown",
      "source": [
        "### 1D array"
      ],
      "metadata": {
        "id": "WqXE6ge7OVEL"
      }
    },
    {
      "cell_type": "code",
      "source": [
        "# We create a rank 1 ndarray \n",
        "x = np.array([1, 2, 5, 6, 7])\n",
        "\n",
        "# We print x\n",
        "print()\n",
        "print('Original x = ', x)\n",
        "\n",
        "# We insert the integer 3 and 4 between 2 and 5 in x. \n",
        "x = np.insert(x,2,[3,4])\n",
        "\n",
        "# We print x with the inserted elements\n",
        "print('\\nx = ', x)\n",
        "\n"
      ],
      "metadata": {
        "id": "lvvoMbo0EYV-",
        "colab": {
          "base_uri": "https://localhost:8080/"
        },
        "outputId": "414613f4-4569-4a76-c3ad-df919e02644f"
      },
      "execution_count": 4,
      "outputs": [
        {
          "output_type": "stream",
          "name": "stdout",
          "text": [
            "\n",
            "Original x =  [1 2 5 6 7]\n",
            "\n",
            "x =  [1 2 3 4 5 6 7]\n"
          ]
        }
      ]
    },
    {
      "cell_type": "markdown",
      "source": [
        "### 2D Array"
      ],
      "metadata": {
        "id": "9Uyh_hezOYcM"
      }
    },
    {
      "cell_type": "code",
      "source": [
        "\n",
        "# We create a rank 2 ndarray \n",
        "Y = np.array([[1,2,3],[7,8,9]])\n",
        "\n",
        "# We print Y\n",
        "print('\\nOriginal Y = \\n', Y)\n",
        "\n",
        "# We insert a row between the first and last row of y\n",
        "w = np.insert(Y,1,[4,5,6],axis=0)\n",
        "\n",
        "# We insert a column full of 5s between the first and second column of y\n",
        "v = np.insert(Y,1,5, axis=1)\n",
        "\n",
        "# We print w\n",
        "print('\\nw = \\n', w)\n",
        "\n",
        "# We print v\n",
        "print('\\nv = \\n', v)"
      ],
      "metadata": {
        "colab": {
          "base_uri": "https://localhost:8080/"
        },
        "id": "EdRjeYdkN2nj",
        "outputId": "0f8263e3-79af-41dc-c5ec-d90d1f06dcd6"
      },
      "execution_count": 3,
      "outputs": [
        {
          "output_type": "stream",
          "name": "stdout",
          "text": [
            "\n",
            "Original Y = \n",
            " [[1 2 3]\n",
            " [7 8 9]]\n",
            "\n",
            "w = \n",
            " [[1 2 3]\n",
            " [4 5 6]\n",
            " [7 8 9]]\n",
            "\n",
            "v = \n",
            " [[1 5 2 3]\n",
            " [7 5 8 9]]\n"
          ]
        }
      ]
    },
    {
      "cell_type": "markdown",
      "source": [
        "## Stacking"
      ],
      "metadata": {
        "id": "IXsLpD-85pb6"
      }
    },
    {
      "cell_type": "markdown",
      "source": [
        "### hstack"
      ],
      "metadata": {
        "id": "Ib5RkI715sPC"
      }
    },
    {
      "cell_type": "code",
      "source": [
        "# We create a rank 1 ndarray \n",
        "x = np.array([1,2])\n",
        "\n",
        "# We create a rank 2 ndarray \n",
        "Y = np.array([[3,4],[5,6]])\n",
        "\n",
        "print('\\nx = ', x)\n",
        "print('\\nY = \\n', Y)\n",
        "\n",
        "# We stack x on top of Y\n",
        "z = np.vstack((x,Y))\n",
        "\n",
        "# We stack x on the right of Y. \n",
        "# We need to reshape x in order to stack it on the right of Y. \n",
        "w = np.hstack((Y,x.reshape(2,1)))\n",
        "\n",
        "print('\\nz = \\n', z)\n",
        "print('\\nw = \\n', w)"
      ],
      "metadata": {
        "colab": {
          "base_uri": "https://localhost:8080/"
        },
        "id": "cNRlh0JfOHSC",
        "outputId": "af459848-13d9-4bdc-be40-fcafdf049a3d"
      },
      "execution_count": 5,
      "outputs": [
        {
          "output_type": "stream",
          "name": "stdout",
          "text": [
            "\n",
            "x =  [1 2]\n",
            "\n",
            "Y = \n",
            " [[3 4]\n",
            " [5 6]]\n",
            "\n",
            "z = \n",
            " [[1 2]\n",
            " [3 4]\n",
            " [5 6]]\n",
            "\n",
            "w = \n",
            " [[3 4 1]\n",
            " [5 6 2]]\n"
          ]
        }
      ]
    },
    {
      "cell_type": "code",
      "source": [],
      "metadata": {
        "id": "-bGYaPpi6v_R"
      },
      "execution_count": null,
      "outputs": []
    }
  ]
}