{
  "nbformat": 4,
  "nbformat_minor": 0,
  "metadata": {
    "colab": {
      "provenance": [],
      "authorship_tag": "ABX9TyNrjD2hA9frXKfl5hlmhjKF",
      "include_colab_link": true
    },
    "kernelspec": {
      "name": "python3",
      "display_name": "Python 3"
    },
    "language_info": {
      "name": "python"
    }
  },
  "cells": [
    {
      "cell_type": "markdown",
      "metadata": {
        "id": "view-in-github",
        "colab_type": "text"
      },
      "source": [
        "<a href=\"https://colab.research.google.com/github/Achal-Hingrajiya/AI_Programming_With_Python_Udacity/blob/main/Numpy_exercises.ipynb\" target=\"_parent\"><img src=\"https://colab.research.google.com/assets/colab-badge.svg\" alt=\"Open In Colab\"/></a>"
      ]
    },
    {
      "cell_type": "markdown",
      "source": [
        "# Creating Numpy array"
      ],
      "metadata": {
        "id": "o43F_24PGBg3"
      }
    },
    {
      "cell_type": "code",
      "execution_count": 2,
      "metadata": {
        "id": "Kxx9SJlGCg3C"
      },
      "outputs": [],
      "source": [
        "import numpy as np\n"
      ]
    },
    {
      "cell_type": "code",
      "source": [
        "# 1D array\n",
        "x = np.array([1, 2, 3, 4])\n",
        "print(\"x: \", x)\n",
        "\n",
        "# Rank of an array = no of dimentions\n",
        "print(\"Rank of x: \", x.ndim)\n",
        "print(\"Shape of x: \", x.shape)\n",
        "print()\n",
        "\n",
        "# 2D array\n",
        "y = np.array([[1, 2, 3], [4, 5, 6], [7, 8, 9]])\n",
        "print(\"y: \", y)\n",
        "\n",
        "print(\"Rank of y: \", y.ndim)\n",
        "print(\"Shape of y: \", y.shape)\n",
        "print(\"Data type of y: \", y.dtype)"
      ],
      "metadata": {
        "colab": {
          "base_uri": "https://localhost:8080/"
        },
        "id": "iexzbvV_Dw9h",
        "outputId": "8448d705-74a2-49a3-e153-83e01eb176f3"
      },
      "execution_count": 8,
      "outputs": [
        {
          "output_type": "stream",
          "name": "stdout",
          "text": [
            "x:  [1 2 3 4]\n",
            "Rank of x:  1\n",
            "Shape of x:  (4,)\n",
            "\n",
            "y:  [[1 2 3]\n",
            " [4 5 6]\n",
            " [7 8 9]]\n",
            "Rank of y:  2\n",
            "Shape of y:  (3, 3)\n",
            "Data type of y:  int64\n"
          ]
        }
      ]
    },
    {
      "cell_type": "code",
      "source": [
        "# 1D array with custom data type\n",
        "z = np.array([1.3, 2.5, 3.0, 4.1, 5.8], dtype = np.int64)\n",
        "print(f\"Z: {z}\\nData type: {z.dtype}\\nDimentions: {z.shape}\\nRank: {z.ndim}\")"
      ],
      "metadata": {
        "colab": {
          "base_uri": "https://localhost:8080/"
        },
        "id": "ZaFW_PeDG6z9",
        "outputId": "8758f8fa-ce2c-47b2-c46e-41783bcc40e4"
      },
      "execution_count": 12,
      "outputs": [
        {
          "output_type": "stream",
          "name": "stdout",
          "text": [
            "Z: [1 2 3 4 5]\n",
            "Data type: int64\n",
            "Dimentions: (5,)\n",
            "Rank: 1\n"
          ]
        }
      ]
    },
    {
      "cell_type": "code",
      "source": [
        "# 2D array with custom data type\n",
        "p = np.array([[1, 2, 3], [4, 5, 6]], dtype=np.float64)\n",
        "print(f\"P: {p}\\nData type: {p.dtype}\\nShape: {p.shape}\\nRank: {p.ndim}\")"
      ],
      "metadata": {
        "colab": {
          "base_uri": "https://localhost:8080/"
        },
        "id": "DjIdEd0bH-jO",
        "outputId": "6f30d026-2075-473b-aece-3847d33d2c17"
      },
      "execution_count": 14,
      "outputs": [
        {
          "output_type": "stream",
          "name": "stdout",
          "text": [
            "P: [[1. 2. 3.]\n",
            " [4. 5. 6.]]\n",
            "Data type: float64\n",
            "Shape: (2, 3)\n",
            "Rank: 2\n"
          ]
        }
      ]
    },
    {
      "cell_type": "markdown",
      "source": [
        "# Saving np array to file"
      ],
      "metadata": {
        "id": "IE-UkPcdI5L0"
      }
    },
    {
      "cell_type": "code",
      "source": [
        "q = np.array([1, 2, 3, 4])\n",
        "np.save('my_arr', q)"
      ],
      "metadata": {
        "id": "Mvf3086hIXlw"
      },
      "execution_count": 15,
      "outputs": []
    },
    {
      "cell_type": "code",
      "source": [
        "# readig from saved file\n",
        "r = np.load('my_arr.npy')\n",
        "print(f\"R: {r}\\nData type: {r.dtype}\\nShape: {r.shape}\\nDimensions: {r.ndim}\")"
      ],
      "metadata": {
        "colab": {
          "base_uri": "https://localhost:8080/"
        },
        "id": "UkS1IjUrJGpH",
        "outputId": "8682cd90-10f7-4155-9678-632458bf82c2"
      },
      "execution_count": 17,
      "outputs": [
        {
          "output_type": "stream",
          "name": "stdout",
          "text": [
            "R: [1 2 3 4]\n",
            "Data type: int64\n",
            "Shape: (4,)\n",
            "Dimensions: 1\n"
          ]
        }
      ]
    },
    {
      "cell_type": "code",
      "source": [],
      "metadata": {
        "id": "xPs3ScufJgpe"
      },
      "execution_count": null,
      "outputs": []
    }
  ]
}